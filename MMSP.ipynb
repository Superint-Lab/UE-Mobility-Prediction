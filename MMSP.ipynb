{
  "cells": [
    {
      "cell_type": "code",
      "execution_count": null,
      "metadata": {
        "id": "bra0oaVreyPS"
      },
      "outputs": [],
      "source": [
        "import numpy as np\n",
        "from keras.models import Sequential\n",
        "from keras.layers import LSTM\n",
        "from keras.layers import Dense\n",
        "import pandas as pd\n",
        "import matplotlib.pyplot as plt\n",
        "from matplotlib import pyplot as plt\n",
        "from sklearn.preprocessing import StandardScaler\n",
        "import seaborn as sns\n",
        "import tensorflow as tf\n",
        "from keras import Model\n",
        "from keras.layers import Input, Dense, Bidirectional\n",
        "#from keras.layers.recurrent import LSTM\n"
      ]
    },
    {
      "cell_type": "code",
      "execution_count": null,
      "metadata": {
        "id": "3dgVm9ifTZ3E",
        "outputId": "445ef288-b9d0-468c-9c71-4fda2b9bd88a"
      },
      "outputs": [
        {
          "name": "stderr",
          "output_type": "stream",
          "text": [
            "C:\\Users\\Jaffar Ali\\AppData\\Local\\Temp\\ipykernel_24596\\2954216711.py:6: DeprecationWarning: `np.str` is a deprecated alias for the builtin `str`. To silence this warning, use `str` by itself. Doing this will not modify any behavior and is safe. If you specifically wanted the numpy scalar type, use `np.str_` here.\n",
            "Deprecated in NumPy 1.20; for more details and guidance: https://numpy.org/devdocs/release/1.20.0-notes.html#deprecations\n",
            "  xy_before_process = np.loadtxt(data_path1, delimiter=\",\", dtype=np.str)\n"
          ]
        },
        {
          "name": "stdout",
          "output_type": "stream",
          "text": [
            "Processing data...\n",
            "Done processing data.\n",
            "(5823, 15, 29)\n",
            "<class 'numpy.ndarray'>\n",
            "train_data_shape:  (5240, 15, 29)\n",
            "test_data_shape:  (583, 15, 29)\n"
          ]
        }
      ],
      "source": [
        "input_len = 14\n",
        "output_len = 1\n",
        "seq_len_total = input_len + output_len\n",
        "\n",
        "data_path1 = '=/ap and time/14input_1output_Randomize.csv'\n",
        "xy_before_process = np.loadtxt(data_path1, delimiter=\",\", dtype=np.str)\n",
        "data = pd.read_csv('/ap and time/14input_1output_Randomize.csv')\n",
        "\n",
        "print(\"Processing data...\")\n",
        "# process the data from the csv file\n",
        "processed_data = []\n",
        "for rows in xy_before_process:\n",
        "    temp_processed_data_1 = []\n",
        "    for i in range((seq_len_total)):\n",
        "        temp_processed_data_2 = []\n",
        "        for j in range(int((len(rows) / (seq_len_total + 0)) * i),int((len(rows) / (seq_len_total + 0)) * (i + 1)),):\n",
        "            rows[j] = rows[j].replace(\"[\", \"\")\n",
        "            rows[j] = rows[j].replace(\"]\", \"\")\n",
        "            rows[j] = rows[j].replace('\"', \"\")\n",
        "            temp_processed_data_2.append(float(rows[j]))\n",
        "        temp_processed_data_1.append(temp_processed_data_2)\n",
        "    processed_data.append(temp_processed_data_1)\n",
        "# print(processed_data)\n",
        "# print(np.shape(processed_data))\n",
        "# print(type(processed_data))\n",
        "\n",
        "processed_data2 = np.array(processed_data)\n",
        "\n",
        "#np.random.shuffle(processed_data2)\n",
        "total_data = processed_data2\n",
        "\n",
        "\n",
        "print(\"Done processing data.\")\n",
        "print(np.shape(total_data))\n",
        "print(type(total_data))\n",
        "\n",
        "\n",
        "\n",
        "# Spliting training and testing data.\n",
        "# If train_size is 0.7, 70% training and 30% test\n",
        "# No validation data\n",
        "train_data_length = int(0.9 * len(total_data))\n",
        "train_data = total_data[0:train_data_length]\n",
        "test_data = total_data[train_data_length:len(total_data)]\n",
        "\n",
        "\n",
        "#train_data = np.expand_dims(train_data, axis=3)\n",
        "#test_data = np.expand_dims(test_data, axis=3)\n",
        "\n",
        "\n",
        "print(\"train_data_shape: \", np.shape(train_data))\n",
        "print(\"test_data_shape: \", np.shape(test_data))\n"
      ]
    },
    {
      "cell_type": "code",
      "execution_count": null,
      "metadata": {
        "id": "B4OUC0AUTZ3E",
        "outputId": "3a53eebc-9d59-4a95-fe36-3611fe568087"
      },
      "outputs": [
        {
          "data": {
            "text/plain": [
              "(5822, 15)"
            ]
          },
          "execution_count": 3,
          "metadata": {},
          "output_type": "execute_result"
        }
      ],
      "source": [
        "data.shape"
      ]
    },
    {
      "cell_type": "code",
      "execution_count": null,
      "metadata": {
        "id": "0ARPg9iCTZ3F"
      },
      "outputs": [],
      "source": []
    },
    {
      "cell_type": "code",
      "execution_count": null,
      "metadata": {
        "id": "pp_r1OxCTZ3F"
      },
      "outputs": [],
      "source": []
    },
    {
      "cell_type": "code",
      "execution_count": null,
      "metadata": {
        "id": "VO6CroWCTZ3F",
        "outputId": "a137d3a7-6822-4a0c-a9e1-1769633201d5"
      },
      "outputs": [
        {
          "name": "stdout",
          "output_type": "stream",
          "text": [
            "(5240, 14, 29)\n",
            "(5240, 14, 12)\n",
            "(5240, 12)\n",
            "(5240, 14, 17)\n",
            "(5240, 17)\n",
            "(583, 14, 29)\n",
            "(583, 14, 12)\n",
            "(583, 12)\n",
            "(583, 14, 17)\n",
            "(583, 17)\n"
          ]
        }
      ],
      "source": [
        "x_train = train_data[:,:input_len,:]#.reshape(2000,30,34)\n",
        "x_train_AP = train_data[:,:input_len,:12]#.reshape(2000,30,34)\n",
        "y_train_AP = train_data[:,input_len:,:12].reshape(train_data.shape[0],12)\n",
        "x_train_T = train_data[:,:input_len,12:]#.reshape(2000,30,34)\n",
        "y_train_T = train_data[:,input_len:,12:].reshape(train_data.shape[0],17)\n",
        "\n",
        "x_test = test_data[:,:input_len,:]#.reshape(2000,30,34)\n",
        "x_test_AP = test_data[:,:input_len,:12]#.reshape(361,30,34)\n",
        "y_test_AP = test_data[:,input_len:,:12].reshape(test_data.shape[0],12)\n",
        "x_test_T = test_data[:,:input_len,12:]#.reshape(361,30,34)\n",
        "y_test_T = test_data[:,input_len:,12:].reshape(test_data.shape[0],17)\n",
        "\n",
        "print(x_train.shape)\n",
        "print(x_train_AP.shape)\n",
        "print(y_train_AP.shape)\n",
        "print(x_train_T.shape)\n",
        "print(y_train_T.shape)\n",
        "\n",
        "\n",
        "print(x_test.shape)\n",
        "print(x_test_AP.shape)\n",
        "print(y_test_AP.shape)\n",
        "print(x_test_T.shape)\n",
        "print(y_test_T.shape)"
      ]
    },
    {
      "cell_type": "code",
      "execution_count": null,
      "metadata": {
        "id": "q0KDpxplTZ3F",
        "outputId": "ee39c566-b1cb-427d-b4a6-0549b8ffaf2a"
      },
      "outputs": [
        {
          "data": {
            "text/plain": [
              "tuple"
            ]
          },
          "execution_count": 5,
          "metadata": {},
          "output_type": "execute_result"
        }
      ],
      "source": [
        "type(x_train.shape)"
      ]
    },
    {
      "cell_type": "code",
      "execution_count": null,
      "metadata": {
        "id": "gcT3OYgyTZ3F"
      },
      "outputs": [],
      "source": [
        "# lstm1 = tf.keras.layers.LSTM(units=128, batch_input_shape=(7,2,10))(input_layer)\n",
        "# lstm1\n",
        "\n",
        "# lstm = tf.keras.layers.LSTM(units=3, batch_input_shape=(8,2,10), return_sequences=False)\n",
        "# lstm"
      ]
    },
    {
      "cell_type": "code",
      "execution_count": null,
      "metadata": {
        "id": "CFmnPOU0TZ3F"
      },
      "outputs": [],
      "source": []
    },
    {
      "cell_type": "code",
      "execution_count": null,
      "metadata": {
        "id": "jXqejDTMTZ3G",
        "outputId": "1171598f-8ed1-41fd-8e62-a66e8d43b60a"
      },
      "outputs": [
        {
          "data": {
            "image/png": "[encoded data removed]",
            "text/plain": [
              "<IPython.core.display.Image object>"
            ]
          },
          "execution_count": 36,
          "metadata": {},
          "output_type": "execute_result"
        }
      ],
      "source": [
        "input_layer = tf.keras.layers.Input(shape=(input_len, 29,))\n",
        "\n",
        "# lstm1 = tf.keras.layers.LSTM(units=128)(input_layer)\n",
        "\n",
        "lstm1 = tf.keras.layers.LSTM(units=1024, return_sequences=True)(input_layer)\n",
        "\n",
        "lstm2 = tf.keras.layers.LSTM(units=256, return_sequences=True)(lstm1)\n",
        "\n",
        "lstm3 = tf.keras.layers.LSTM(units=256, return_sequences=False)(lstm2)\n",
        "# lstm2 = tf.keras.layers.LSTM(units=128)(lstm1)\n",
        "\n",
        "# lstm3 = tf.keras.layers.LSTM(units=128)(lstm2)\n",
        "\n",
        "# lstm4 = tf.keras.layers.LSTM(units=128, return_sequences=False)(lstm3)\n",
        "\n",
        "hidden_layer = tf.keras.layers.Dense(128)(lstm3)\n",
        "\n",
        "hidden_layer1 = tf.keras.layers.Dense(64)(hidden_layer)\n",
        "\n",
        "\n",
        "AP_output = tf.keras.layers.Dense(12, activation='softmax', name= 'AP_Prediction')(hidden_layer1)\n",
        "\n",
        "AP_output1 = tf.squeeze(AP_output)\n",
        "\n",
        "T_output = tf.keras.layers.Dense(17, activation='sigmoid', name= 'T_Prediction')(lstm3)\n",
        "\n",
        "output_list = [AP_output, T_output]\n",
        "\n",
        "model1 = tf.keras.Model(inputs = input_layer, outputs = output_list)\n",
        "\n",
        "#model1.compile(optimizer = tf.keras.optimizers.RMSprop(1e-3), loss = ['categorical_crossentropy', 'mse'], metrics = ['acc'])\n",
        "\n",
        "tf.keras.utils.plot_model(model1,show_shapes = True)"
      ]
    },
    {
      "cell_type": "code",
      "execution_count": null,
      "metadata": {
        "id": "LTtEAfWyTZ3G",
        "outputId": "f68a0c48-c6f7-40e7-f370-3bb06f5cccfe"
      },
      "outputs": [
        {
          "name": "stdout",
          "output_type": "stream",
          "text": [
            "Model: \"model_2\"\n",
            "__________________________________________________________________________________________________\n",
            " Layer (type)                   Output Shape         Param #     Connected to                     \n",
            "==================================================================================================\n",
            " input_3 (InputLayer)           [(None, 14, 29)]     0           []                               \n",
            "                                                                                                  \n",
            " lstm_6 (LSTM)                  (None, 14, 1024)     4317184     ['input_3[0][0]']                \n",
            "                                                                                                  \n",
            " lstm_7 (LSTM)                  (None, 14, 256)      1311744     ['lstm_6[0][0]']                 \n",
            "                                                                                                  \n",
            " lstm_8 (LSTM)                  (None, 256)          525312      ['lstm_7[0][0]']                 \n",
            "                                                                                                  \n",
            " dense_4 (Dense)                (None, 128)          32896       ['lstm_8[0][0]']                 \n",
            "                                                                                                  \n",
            " dense_5 (Dense)                (None, 64)           8256        ['dense_4[0][0]']                \n",
            "                                                                                                  \n",
            " AP_Prediction (Dense)          (None, 12)           780         ['dense_5[0][0]']                \n",
            "                                                                                                  \n",
            " T_Prediction (Dense)           (None, 17)           4369        ['lstm_8[0][0]']                 \n",
            "                                                                                                  \n",
            "==================================================================================================\n",
            "Total params: 6,200,541\n",
            "Trainable params: 6,200,541\n",
            "Non-trainable params: 0\n",
            "__________________________________________________________________________________________________\n"
          ]
        }
      ],
      "source": [
        "loss1 = tf.keras.losses.BinaryCrossentropy()\n",
        "loss2 = tf.keras.losses.MeanSquaredError()\n",
        "optim = tf.keras.optimizers.Adam(lr=0.001)\n",
        "metrics = [\"BinaryAccuracy\"]\n",
        "\n",
        "losses = {\n",
        "    \"AP_Prediction\": loss1,\n",
        "    \"T_Prediction\": loss2\n",
        "}\n",
        "\n",
        "model1.compile(loss=losses, optimizer = optim, metrics={'AP_Prediction': 'accuracy', 'T_Prediction': 'mae'})\n",
        "model1.summary()"
      ]
    },
    {
      "cell_type": "code",
      "execution_count": null,
      "metadata": {
        "id": "uTlQ3n5KTZ3G",
        "outputId": "73362d34-ada5-48e3-c539-2678a4ab39b9"
      },
      "outputs": [
        {
          "name": "stdout",
          "output_type": "stream",
          "text": [
            "Epoch 1/150\n",
            "59/59 [==============================] - 6s 30ms/step - loss: 0.4067 - AP_Prediction_loss: 0.2494 - T_Prediction_loss: 0.1574 - AP_Prediction_accuracy: 0.3218 - T_Prediction_mae: 0.3210\n",
            "Epoch 2/150\n",
            "59/59 [==============================] - 2s 30ms/step - loss: 0.3817 - AP_Prediction_loss: 0.2300 - T_Prediction_loss: 0.1518 - AP_Prediction_accuracy: 0.3208 - T_Prediction_mae: 0.3086\n",
            "Epoch 3/150\n",
            "59/59 [==============================] - 2s 30ms/step - loss: 0.3797 - AP_Prediction_loss: 0.2282 - T_Prediction_loss: 0.1516 - AP_Prediction_accuracy: 0.3416 - T_Prediction_mae: 0.3070\n",
            "Epoch 4/150\n",
            "59/59 [==============================] - 2s 30ms/step - loss: 0.3798 - AP_Prediction_loss: 0.2282 - T_Prediction_loss: 0.1516 - AP_Prediction_accuracy: 0.3353 - T_Prediction_mae: 0.3064\n",
            "Epoch 5/150\n",
            "59/59 [==============================] - 2s 30ms/step - loss: 0.3795 - AP_Prediction_loss: 0.2279 - T_Prediction_loss: 0.1516 - AP_Prediction_accuracy: 0.3336 - T_Prediction_mae: 0.3066\n",
            "Epoch 6/150\n",
            "59/59 [==============================] - 2s 30ms/step - loss: 0.3727 - AP_Prediction_loss: 0.2214 - T_Prediction_loss: 0.1512 - AP_Prediction_accuracy: 0.3487 - T_Prediction_mae: 0.3054\n",
            "Epoch 7/150\n",
            "59/59 [==============================] - 2s 30ms/step - loss: 0.3089 - AP_Prediction_loss: 0.1598 - T_Prediction_loss: 0.1491 - AP_Prediction_accuracy: 0.5861 - T_Prediction_mae: 0.2992\n",
            "Epoch 8/150\n",
            "59/59 [==============================] - 2s 30ms/step - loss: 0.2809 - AP_Prediction_loss: 0.1327 - T_Prediction_loss: 0.1482 - AP_Prediction_accuracy: 0.6450 - T_Prediction_mae: 0.2991\n",
            "Epoch 9/150\n",
            "59/59 [==============================] - 2s 30ms/step - loss: 0.2723 - AP_Prediction_loss: 0.1261 - T_Prediction_loss: 0.1462 - AP_Prediction_accuracy: 0.6691 - T_Prediction_mae: 0.2952\n",
            "Epoch 10/150\n",
            "59/59 [==============================] - 2s 30ms/step - loss: 0.2677 - AP_Prediction_loss: 0.1221 - T_Prediction_loss: 0.1455 - AP_Prediction_accuracy: 0.6807 - T_Prediction_mae: 0.2940\n",
            "Epoch 11/150\n",
            "59/59 [==============================] - 2s 30ms/step - loss: 0.2625 - AP_Prediction_loss: 0.1171 - T_Prediction_loss: 0.1454 - AP_Prediction_accuracy: 0.6952 - T_Prediction_mae: 0.2924\n",
            "Epoch 12/150\n",
            "59/59 [==============================] - 2s 30ms/step - loss: 0.2613 - AP_Prediction_loss: 0.1160 - T_Prediction_loss: 0.1453 - AP_Prediction_accuracy: 0.6941 - T_Prediction_mae: 0.2933\n",
            "Epoch 13/150\n",
            "59/59 [==============================] - 2s 30ms/step - loss: 0.2591 - AP_Prediction_loss: 0.1141 - T_Prediction_loss: 0.1450 - AP_Prediction_accuracy: 0.7063 - T_Prediction_mae: 0.2920\n",
            "Epoch 14/150\n",
            "59/59 [==============================] - 2s 30ms/step - loss: 0.2536 - AP_Prediction_loss: 0.1090 - T_Prediction_loss: 0.1446 - AP_Prediction_accuracy: 0.7349 - T_Prediction_mae: 0.2917\n",
            "Epoch 15/150\n",
            "59/59 [==============================] - 2s 30ms/step - loss: 0.2508 - AP_Prediction_loss: 0.1067 - T_Prediction_loss: 0.1441 - AP_Prediction_accuracy: 0.7311 - T_Prediction_mae: 0.2911\n",
            "Epoch 16/150\n",
            "59/59 [==============================] - 2s 30ms/step - loss: 0.2452 - AP_Prediction_loss: 0.1017 - T_Prediction_loss: 0.1435 - AP_Prediction_accuracy: 0.7441 - T_Prediction_mae: 0.2895\n",
            "Epoch 17/150\n",
            "59/59 [==============================] - 2s 30ms/step - loss: 0.2439 - AP_Prediction_loss: 0.1006 - T_Prediction_loss: 0.1433 - AP_Prediction_accuracy: 0.7508 - T_Prediction_mae: 0.2887\n",
            "Epoch 18/150\n",
            "59/59 [==============================] - 2s 30ms/step - loss: 0.2393 - AP_Prediction_loss: 0.0964 - T_Prediction_loss: 0.1429 - AP_Prediction_accuracy: 0.7611 - T_Prediction_mae: 0.2878\n",
            "Epoch 19/150\n",
            "59/59 [==============================] - 2s 30ms/step - loss: 0.2336 - AP_Prediction_loss: 0.0913 - T_Prediction_loss: 0.1423 - AP_Prediction_accuracy: 0.7836 - T_Prediction_mae: 0.2864\n",
            "Epoch 20/150\n",
            "59/59 [==============================] - 2s 30ms/step - loss: 0.2291 - AP_Prediction_loss: 0.0874 - T_Prediction_loss: 0.1418 - AP_Prediction_accuracy: 0.7929 - T_Prediction_mae: 0.2856\n",
            "Epoch 21/150\n",
            "59/59 [==============================] - 2s 31ms/step - loss: 0.2253 - AP_Prediction_loss: 0.0839 - T_Prediction_loss: 0.1414 - AP_Prediction_accuracy: 0.7968 - T_Prediction_mae: 0.2850\n",
            "Epoch 22/150\n",
            "59/59 [==============================] - 2s 33ms/step - loss: 0.2191 - AP_Prediction_loss: 0.0781 - T_Prediction_loss: 0.1410 - AP_Prediction_accuracy: 0.8134 - T_Prediction_mae: 0.2834\n",
            "Epoch 23/150\n",
            "59/59 [==============================] - 2s 30ms/step - loss: 0.2179 - AP_Prediction_loss: 0.0772 - T_Prediction_loss: 0.1408 - AP_Prediction_accuracy: 0.8162 - T_Prediction_mae: 0.2832\n",
            "Epoch 24/150\n",
            "59/59 [==============================] - 2s 30ms/step - loss: 0.2134 - AP_Prediction_loss: 0.0730 - T_Prediction_loss: 0.1404 - AP_Prediction_accuracy: 0.8279 - T_Prediction_mae: 0.2827\n",
            "Epoch 25/150\n",
            "59/59 [==============================] - 2s 30ms/step - loss: 0.2062 - AP_Prediction_loss: 0.0663 - T_Prediction_loss: 0.1399 - AP_Prediction_accuracy: 0.8450 - T_Prediction_mae: 0.2821\n",
            "Epoch 26/150\n",
            "59/59 [==============================] - 2s 30ms/step - loss: 0.2014 - AP_Prediction_loss: 0.0619 - T_Prediction_loss: 0.1394 - AP_Prediction_accuracy: 0.8613 - T_Prediction_mae: 0.2810\n",
            "Epoch 27/150\n",
            "59/59 [==============================] - 2s 32ms/step - loss: 0.1976 - AP_Prediction_loss: 0.0585 - T_Prediction_loss: 0.1390 - AP_Prediction_accuracy: 0.8685 - T_Prediction_mae: 0.2799\n",
            "Epoch 28/150\n",
            "59/59 [==============================] - 2s 30ms/step - loss: 0.1943 - AP_Prediction_loss: 0.0557 - T_Prediction_loss: 0.1386 - AP_Prediction_accuracy: 0.8853 - T_Prediction_mae: 0.2797\n",
            "Epoch 29/150\n",
            "59/59 [==============================] - 2s 31ms/step - loss: 0.1861 - AP_Prediction_loss: 0.0477 - T_Prediction_loss: 0.1384 - AP_Prediction_accuracy: 0.9034 - T_Prediction_mae: 0.2798\n",
            "Epoch 30/150\n",
            "59/59 [==============================] - 2s 31ms/step - loss: 0.1794 - AP_Prediction_loss: 0.0417 - T_Prediction_loss: 0.1377 - AP_Prediction_accuracy: 0.9170 - T_Prediction_mae: 0.2778\n",
            "Epoch 31/150\n",
            "59/59 [==============================] - 2s 31ms/step - loss: 0.1732 - AP_Prediction_loss: 0.0368 - T_Prediction_loss: 0.1365 - AP_Prediction_accuracy: 0.9286 - T_Prediction_mae: 0.2764\n",
            "Epoch 32/150\n",
            "59/59 [==============================] - 2s 30ms/step - loss: 0.1641 - AP_Prediction_loss: 0.0290 - T_Prediction_loss: 0.1351 - AP_Prediction_accuracy: 0.9492 - T_Prediction_mae: 0.2737\n",
            "Epoch 33/150\n",
            "59/59 [==============================] - 2s 31ms/step - loss: 0.1627 - AP_Prediction_loss: 0.0282 - T_Prediction_loss: 0.1346 - AP_Prediction_accuracy: 0.9475 - T_Prediction_mae: 0.2730\n",
            "Epoch 34/150\n",
            "59/59 [==============================] - 2s 31ms/step - loss: 0.1647 - AP_Prediction_loss: 0.0301 - T_Prediction_loss: 0.1346 - AP_Prediction_accuracy: 0.9424 - T_Prediction_mae: 0.2731\n",
            "Epoch 35/150\n",
            "59/59 [==============================] - 2s 30ms/step - loss: 0.1577 - AP_Prediction_loss: 0.0245 - T_Prediction_loss: 0.1332 - AP_Prediction_accuracy: 0.9542 - T_Prediction_mae: 0.2707\n",
            "Epoch 36/150\n",
            "59/59 [==============================] - 2s 30ms/step - loss: 0.1507 - AP_Prediction_loss: 0.0196 - T_Prediction_loss: 0.1311 - AP_Prediction_accuracy: 0.9658 - T_Prediction_mae: 0.2678\n",
            "Epoch 37/150\n",
            "59/59 [==============================] - 2s 30ms/step - loss: 0.1455 - AP_Prediction_loss: 0.0161 - T_Prediction_loss: 0.1294 - AP_Prediction_accuracy: 0.9725 - T_Prediction_mae: 0.2644\n",
            "Epoch 38/150\n",
            "59/59 [==============================] - 2s 31ms/step - loss: 0.1417 - AP_Prediction_loss: 0.0147 - T_Prediction_loss: 0.1270 - AP_Prediction_accuracy: 0.9698 - T_Prediction_mae: 0.2610\n",
            "Epoch 39/150\n",
            "59/59 [==============================] - 2s 31ms/step - loss: 0.1322 - AP_Prediction_loss: 0.0095 - T_Prediction_loss: 0.1227 - AP_Prediction_accuracy: 0.9836 - T_Prediction_mae: 0.2539\n",
            "Epoch 40/150\n",
            "59/59 [==============================] - 2s 31ms/step - loss: 0.1264 - AP_Prediction_loss: 0.0078 - T_Prediction_loss: 0.1187 - AP_Prediction_accuracy: 0.9855 - T_Prediction_mae: 0.2473\n",
            "Epoch 41/150\n",
            "59/59 [==============================] - 2s 31ms/step - loss: 0.1211 - AP_Prediction_loss: 0.0067 - T_Prediction_loss: 0.1144 - AP_Prediction_accuracy: 0.9893 - T_Prediction_mae: 0.2401\n",
            "Epoch 42/150\n",
            "59/59 [==============================] - 2s 31ms/step - loss: 0.1126 - AP_Prediction_loss: 0.0057 - T_Prediction_loss: 0.1068 - AP_Prediction_accuracy: 0.9914 - T_Prediction_mae: 0.2290\n",
            "Epoch 43/150\n",
            "59/59 [==============================] - 2s 31ms/step - loss: 0.1144 - AP_Prediction_loss: 0.0095 - T_Prediction_loss: 0.1049 - AP_Prediction_accuracy: 0.9847 - T_Prediction_mae: 0.2239\n",
            "Epoch 44/150\n",
            "59/59 [==============================] - 2s 32ms/step - loss: 0.1096 - AP_Prediction_loss: 0.0087 - T_Prediction_loss: 0.1009 - AP_Prediction_accuracy: 0.9861 - T_Prediction_mae: 0.2174\n",
            "Epoch 45/150\n",
            "59/59 [==============================] - 2s 31ms/step - loss: 0.0953 - AP_Prediction_loss: 0.0045 - T_Prediction_loss: 0.0909 - AP_Prediction_accuracy: 0.9927 - T_Prediction_mae: 0.2025\n",
            "Epoch 46/150\n",
            "59/59 [==============================] - 2s 31ms/step - loss: 0.0838 - AP_Prediction_loss: 0.0037 - T_Prediction_loss: 0.0800 - AP_Prediction_accuracy: 0.9948 - T_Prediction_mae: 0.1849\n",
            "Epoch 47/150\n",
            "59/59 [==============================] - 2s 31ms/step - loss: 0.0721 - AP_Prediction_loss: 0.0033 - T_Prediction_loss: 0.0689 - AP_Prediction_accuracy: 0.9956 - T_Prediction_mae: 0.1662\n",
            "Epoch 48/150\n",
            "59/59 [==============================] - 2s 31ms/step - loss: 0.0655 - AP_Prediction_loss: 0.0039 - T_Prediction_loss: 0.0616 - AP_Prediction_accuracy: 0.9950 - T_Prediction_mae: 0.1532\n",
            "Epoch 49/150\n",
            "59/59 [==============================] - 2s 31ms/step - loss: 0.0542 - AP_Prediction_loss: 0.0020 - T_Prediction_loss: 0.0522 - AP_Prediction_accuracy: 0.9981 - T_Prediction_mae: 0.1355\n",
            "Epoch 50/150\n",
            "59/59 [==============================] - 2s 31ms/step - loss: 0.0433 - AP_Prediction_loss: 9.0408e-04 - T_Prediction_loss: 0.0424 - AP_Prediction_accuracy: 0.9994 - T_Prediction_mae: 0.1174\n",
            "Epoch 51/150\n",
            "59/59 [==============================] - 2s 31ms/step - loss: 0.0365 - AP_Prediction_loss: 0.0010 - T_Prediction_loss: 0.0355 - AP_Prediction_accuracy: 0.9996 - T_Prediction_mae: 0.1036\n",
            "Epoch 52/150\n",
            "59/59 [==============================] - 2s 31ms/step - loss: 0.0357 - AP_Prediction_loss: 0.0021 - T_Prediction_loss: 0.0335 - AP_Prediction_accuracy: 0.9969 - T_Prediction_mae: 0.0979\n",
            "Epoch 53/150\n",
            "59/59 [==============================] - 2s 31ms/step - loss: 0.0602 - AP_Prediction_loss: 0.0103 - T_Prediction_loss: 0.0500 - AP_Prediction_accuracy: 0.9849 - T_Prediction_mae: 0.1213\n",
            "Epoch 54/150\n",
            "59/59 [==============================] - 2s 31ms/step - loss: 0.0499 - AP_Prediction_loss: 0.0062 - T_Prediction_loss: 0.0437 - AP_Prediction_accuracy: 0.9920 - T_Prediction_mae: 0.1133\n",
            "Epoch 55/150\n",
            "59/59 [==============================] - 2s 31ms/step - loss: 0.0273 - AP_Prediction_loss: 0.0012 - T_Prediction_loss: 0.0261 - AP_Prediction_accuracy: 0.9994 - T_Prediction_mae: 0.0817\n",
            "Epoch 56/150\n",
            "59/59 [==============================] - 2s 31ms/step - loss: 0.0191 - AP_Prediction_loss: 3.6743e-04 - T_Prediction_loss: 0.0188 - AP_Prediction_accuracy: 1.0000 - T_Prediction_mae: 0.0663\n",
            "Epoch 57/150\n",
            "59/59 [==============================] - 2s 32ms/step - loss: 0.0154 - AP_Prediction_loss: 3.0569e-04 - T_Prediction_loss: 0.0151 - AP_Prediction_accuracy: 0.9998 - T_Prediction_mae: 0.0576\n",
            "Epoch 58/150\n",
            "59/59 [==============================] - 2s 32ms/step - loss: 0.0124 - AP_Prediction_loss: 1.9453e-04 - T_Prediction_loss: 0.0123 - AP_Prediction_accuracy: 1.0000 - T_Prediction_mae: 0.0500\n",
            "Epoch 59/150\n",
            "59/59 [==============================] - 2s 32ms/step - loss: 0.0112 - AP_Prediction_loss: 2.3834e-04 - T_Prediction_loss: 0.0110 - AP_Prediction_accuracy: 0.9998 - T_Prediction_mae: 0.0463\n",
            "Epoch 60/150\n",
            "59/59 [==============================] - 2s 31ms/step - loss: 0.0095 - AP_Prediction_loss: 1.5155e-04 - T_Prediction_loss: 0.0094 - AP_Prediction_accuracy: 1.0000 - T_Prediction_mae: 0.0416\n",
            "Epoch 61/150\n",
            "59/59 [==============================] - 2s 31ms/step - loss: 0.0090 - AP_Prediction_loss: 5.0488e-04 - T_Prediction_loss: 0.0085 - AP_Prediction_accuracy: 0.9996 - T_Prediction_mae: 0.0390\n",
            "Epoch 62/150\n",
            "59/59 [==============================] - 2s 31ms/step - loss: 0.0093 - AP_Prediction_loss: 0.0011 - T_Prediction_loss: 0.0082 - AP_Prediction_accuracy: 0.9990 - T_Prediction_mae: 0.0375\n",
            "Epoch 63/150\n",
            "59/59 [==============================] - 2s 31ms/step - loss: 0.0108 - AP_Prediction_loss: 0.0018 - T_Prediction_loss: 0.0090 - AP_Prediction_accuracy: 0.9975 - T_Prediction_mae: 0.0381\n",
            "Epoch 64/150\n",
            "59/59 [==============================] - 2s 31ms/step - loss: 0.0154 - AP_Prediction_loss: 0.0026 - T_Prediction_loss: 0.0128 - AP_Prediction_accuracy: 0.9964 - T_Prediction_mae: 0.0472\n",
            "Epoch 65/150\n",
            "59/59 [==============================] - 2s 31ms/step - loss: 0.0107 - AP_Prediction_loss: 0.0011 - T_Prediction_loss: 0.0096 - AP_Prediction_accuracy: 0.9989 - T_Prediction_mae: 0.0399\n",
            "Epoch 66/150\n",
            "59/59 [==============================] - 2s 31ms/step - loss: 0.0088 - AP_Prediction_loss: 0.0010 - T_Prediction_loss: 0.0077 - AP_Prediction_accuracy: 0.9989 - T_Prediction_mae: 0.0343\n",
            "Epoch 67/150\n",
            "59/59 [==============================] - 2s 33ms/step - loss: 0.0117 - AP_Prediction_loss: 0.0025 - T_Prediction_loss: 0.0092 - AP_Prediction_accuracy: 0.9975 - T_Prediction_mae: 0.0378\n",
            "Epoch 68/150\n",
            "59/59 [==============================] - 2s 31ms/step - loss: 0.0346 - AP_Prediction_loss: 0.0111 - T_Prediction_loss: 0.0235 - AP_Prediction_accuracy: 0.9884 - T_Prediction_mae: 0.0658\n",
            "Epoch 69/150\n",
            "59/59 [==============================] - 2s 31ms/step - loss: 0.0213 - AP_Prediction_loss: 0.0045 - T_Prediction_loss: 0.0168 - AP_Prediction_accuracy: 0.9937 - T_Prediction_mae: 0.0551\n",
            "Epoch 70/150\n",
            "59/59 [==============================] - 2s 31ms/step - loss: 0.0098 - AP_Prediction_loss: 9.6130e-04 - T_Prediction_loss: 0.0089 - AP_Prediction_accuracy: 0.9990 - T_Prediction_mae: 0.0369\n",
            "Epoch 71/150\n",
            "59/59 [==============================] - 2s 31ms/step - loss: 0.0065 - AP_Prediction_loss: 2.8761e-04 - T_Prediction_loss: 0.0062 - AP_Prediction_accuracy: 1.0000 - T_Prediction_mae: 0.0299\n",
            "Epoch 72/150\n",
            "59/59 [==============================] - 2s 31ms/step - loss: 0.0049 - AP_Prediction_loss: 9.3238e-05 - T_Prediction_loss: 0.0048 - AP_Prediction_accuracy: 1.0000 - T_Prediction_mae: 0.0249\n",
            "Epoch 73/150\n",
            "59/59 [==============================] - 2s 31ms/step - loss: 0.0042 - AP_Prediction_loss: 7.4350e-05 - T_Prediction_loss: 0.0041 - AP_Prediction_accuracy: 1.0000 - T_Prediction_mae: 0.0221\n",
            "Epoch 74/150\n",
            "59/59 [==============================] - 2s 31ms/step - loss: 0.0037 - AP_Prediction_loss: 6.1339e-05 - T_Prediction_loss: 0.0037 - AP_Prediction_accuracy: 1.0000 - T_Prediction_mae: 0.0203\n",
            "Epoch 75/150\n",
            "59/59 [==============================] - 2s 31ms/step - loss: 0.0034 - AP_Prediction_loss: 5.3643e-05 - T_Prediction_loss: 0.0034 - AP_Prediction_accuracy: 1.0000 - T_Prediction_mae: 0.0190\n",
            "Epoch 76/150\n",
            "59/59 [==============================] - 2s 31ms/step - loss: 0.0032 - AP_Prediction_loss: 5.2097e-05 - T_Prediction_loss: 0.0031 - AP_Prediction_accuracy: 1.0000 - T_Prediction_mae: 0.0181\n",
            "Epoch 77/150\n",
            "59/59 [==============================] - 2s 31ms/step - loss: 0.0029 - AP_Prediction_loss: 4.6247e-05 - T_Prediction_loss: 0.0029 - AP_Prediction_accuracy: 1.0000 - T_Prediction_mae: 0.0171\n",
            "Epoch 78/150\n",
            "59/59 [==============================] - 2s 31ms/step - loss: 0.0027 - AP_Prediction_loss: 4.3154e-05 - T_Prediction_loss: 0.0027 - AP_Prediction_accuracy: 1.0000 - T_Prediction_mae: 0.0161\n",
            "Epoch 79/150\n",
            "59/59 [==============================] - 2s 31ms/step - loss: 0.0026 - AP_Prediction_loss: 3.9695e-05 - T_Prediction_loss: 0.0026 - AP_Prediction_accuracy: 1.0000 - T_Prediction_mae: 0.0156\n",
            "Epoch 80/150\n",
            "59/59 [==============================] - 2s 31ms/step - loss: 0.0025 - AP_Prediction_loss: 3.9733e-05 - T_Prediction_loss: 0.0024 - AP_Prediction_accuracy: 1.0000 - T_Prediction_mae: 0.0150\n",
            "Epoch 81/150\n",
            "59/59 [==============================] - 2s 31ms/step - loss: 0.0023 - AP_Prediction_loss: 3.4849e-05 - T_Prediction_loss: 0.0023 - AP_Prediction_accuracy: 1.0000 - T_Prediction_mae: 0.0143\n",
            "Epoch 82/150\n",
            "59/59 [==============================] - 2s 31ms/step - loss: 0.0022 - AP_Prediction_loss: 3.2487e-05 - T_Prediction_loss: 0.0022 - AP_Prediction_accuracy: 1.0000 - T_Prediction_mae: 0.0137\n",
            "Epoch 83/150\n",
            "59/59 [==============================] - 2s 31ms/step - loss: 0.0021 - AP_Prediction_loss: 3.0344e-05 - T_Prediction_loss: 0.0021 - AP_Prediction_accuracy: 1.0000 - T_Prediction_mae: 0.0131\n",
            "Epoch 84/150\n",
            "59/59 [==============================] - 2s 31ms/step - loss: 0.0021 - AP_Prediction_loss: 2.9811e-05 - T_Prediction_loss: 0.0020 - AP_Prediction_accuracy: 1.0000 - T_Prediction_mae: 0.0126\n",
            "Epoch 85/150\n",
            "59/59 [==============================] - 2s 31ms/step - loss: 0.0020 - AP_Prediction_loss: 2.7216e-05 - T_Prediction_loss: 0.0020 - AP_Prediction_accuracy: 1.0000 - T_Prediction_mae: 0.0122\n",
            "Epoch 86/150\n",
            "59/59 [==============================] - 2s 31ms/step - loss: 0.0020 - AP_Prediction_loss: 2.6204e-05 - T_Prediction_loss: 0.0020 - AP_Prediction_accuracy: 1.0000 - T_Prediction_mae: 0.0119\n",
            "Epoch 87/150\n",
            "59/59 [==============================] - 2s 31ms/step - loss: 0.0020 - AP_Prediction_loss: 2.5885e-05 - T_Prediction_loss: 0.0019 - AP_Prediction_accuracy: 1.0000 - T_Prediction_mae: 0.0116\n",
            "Epoch 88/150\n",
            "59/59 [==============================] - 2s 31ms/step - loss: 0.0019 - AP_Prediction_loss: 2.3829e-05 - T_Prediction_loss: 0.0019 - AP_Prediction_accuracy: 1.0000 - T_Prediction_mae: 0.0112\n",
            "Epoch 89/150\n",
            "59/59 [==============================] - 2s 31ms/step - loss: 0.0018 - AP_Prediction_loss: 2.2580e-05 - T_Prediction_loss: 0.0018 - AP_Prediction_accuracy: 1.0000 - T_Prediction_mae: 0.0108\n",
            "Epoch 90/150\n",
            "59/59 [==============================] - 2s 31ms/step - loss: 0.0018 - AP_Prediction_loss: 2.1825e-05 - T_Prediction_loss: 0.0018 - AP_Prediction_accuracy: 1.0000 - T_Prediction_mae: 0.0105\n",
            "Epoch 91/150\n",
            "59/59 [==============================] - 2s 31ms/step - loss: 0.0018 - AP_Prediction_loss: 2.0220e-05 - T_Prediction_loss: 0.0017 - AP_Prediction_accuracy: 1.0000 - T_Prediction_mae: 0.0102\n",
            "Epoch 92/150\n",
            "59/59 [==============================] - 2s 31ms/step - loss: 0.0017 - AP_Prediction_loss: 1.9366e-05 - T_Prediction_loss: 0.0017 - AP_Prediction_accuracy: 1.0000 - T_Prediction_mae: 0.0099\n",
            "Epoch 93/150\n",
            "59/59 [==============================] - 2s 31ms/step - loss: 0.0017 - AP_Prediction_loss: 1.9586e-05 - T_Prediction_loss: 0.0017 - AP_Prediction_accuracy: 1.0000 - T_Prediction_mae: 0.0098\n",
            "Epoch 94/150\n",
            "59/59 [==============================] - 2s 31ms/step - loss: 0.0017 - AP_Prediction_loss: 1.7948e-05 - T_Prediction_loss: 0.0017 - AP_Prediction_accuracy: 1.0000 - T_Prediction_mae: 0.0097\n",
            "Epoch 95/150\n",
            "59/59 [==============================] - 2s 31ms/step - loss: 0.0017 - AP_Prediction_loss: 1.6405e-05 - T_Prediction_loss: 0.0016 - AP_Prediction_accuracy: 1.0000 - T_Prediction_mae: 0.0093\n",
            "Epoch 96/150\n",
            "59/59 [==============================] - 2s 31ms/step - loss: 0.0016 - AP_Prediction_loss: 1.5487e-05 - T_Prediction_loss: 0.0016 - AP_Prediction_accuracy: 1.0000 - T_Prediction_mae: 0.0090\n",
            "Epoch 97/150\n",
            "59/59 [==============================] - 2s 31ms/step - loss: 0.0016 - AP_Prediction_loss: 1.5630e-05 - T_Prediction_loss: 0.0016 - AP_Prediction_accuracy: 1.0000 - T_Prediction_mae: 0.0090\n",
            "Epoch 98/150\n",
            "59/59 [==============================] - 2s 31ms/step - loss: 0.0015 - AP_Prediction_loss: 1.5444e-05 - T_Prediction_loss: 0.0015 - AP_Prediction_accuracy: 1.0000 - T_Prediction_mae: 0.0086\n",
            "Epoch 99/150\n",
            "59/59 [==============================] - 2s 32ms/step - loss: 0.0015 - AP_Prediction_loss: 1.4020e-05 - T_Prediction_loss: 0.0015 - AP_Prediction_accuracy: 1.0000 - T_Prediction_mae: 0.0086\n",
            "Epoch 100/150\n",
            "59/59 [==============================] - 2s 32ms/step - loss: 0.0015 - AP_Prediction_loss: 1.3224e-05 - T_Prediction_loss: 0.0015 - AP_Prediction_accuracy: 1.0000 - T_Prediction_mae: 0.0083\n",
            "Epoch 101/150\n",
            "59/59 [==============================] - 2s 32ms/step - loss: 0.0014 - AP_Prediction_loss: 1.2570e-05 - T_Prediction_loss: 0.0014 - AP_Prediction_accuracy: 1.0000 - T_Prediction_mae: 0.0080\n",
            "Epoch 102/150\n",
            "59/59 [==============================] - 2s 32ms/step - loss: 0.0014 - AP_Prediction_loss: 1.1861e-05 - T_Prediction_loss: 0.0014 - AP_Prediction_accuracy: 1.0000 - T_Prediction_mae: 0.0078\n",
            "Epoch 103/150\n",
            "59/59 [==============================] - 2s 32ms/step - loss: 0.0014 - AP_Prediction_loss: 1.1434e-05 - T_Prediction_loss: 0.0014 - AP_Prediction_accuracy: 1.0000 - T_Prediction_mae: 0.0077\n",
            "Epoch 104/150\n",
            "59/59 [==============================] - 2s 32ms/step - loss: 0.0014 - AP_Prediction_loss: 1.1616e-05 - T_Prediction_loss: 0.0014 - AP_Prediction_accuracy: 1.0000 - T_Prediction_mae: 0.0076\n",
            "Epoch 105/150\n",
            "59/59 [==============================] - 2s 32ms/step - loss: 0.0015 - AP_Prediction_loss: 1.1931e-05 - T_Prediction_loss: 0.0015 - AP_Prediction_accuracy: 1.0000 - T_Prediction_mae: 0.0089\n",
            "Epoch 106/150\n",
            "59/59 [==============================] - 2s 32ms/step - loss: 0.0145 - AP_Prediction_loss: 0.0029 - T_Prediction_loss: 0.0116 - AP_Prediction_accuracy: 0.9969 - T_Prediction_mae: 0.0318\n",
            "Epoch 107/150\n",
            "59/59 [==============================] - 2s 32ms/step - loss: 0.1412 - AP_Prediction_loss: 0.0494 - T_Prediction_loss: 0.0918 - AP_Prediction_accuracy: 0.9351 - T_Prediction_mae: 0.1602\n",
            "Epoch 108/150\n",
            "59/59 [==============================] - 2s 32ms/step - loss: 0.0465 - AP_Prediction_loss: 0.0077 - T_Prediction_loss: 0.0388 - AP_Prediction_accuracy: 0.9874 - T_Prediction_mae: 0.0945\n",
            "Epoch 109/150\n",
            "59/59 [==============================] - 2s 32ms/step - loss: 0.0168 - AP_Prediction_loss: 0.0019 - T_Prediction_loss: 0.0149 - AP_Prediction_accuracy: 0.9983 - T_Prediction_mae: 0.0496\n",
            "Epoch 110/150\n",
            "59/59 [==============================] - 2s 32ms/step - loss: 0.0091 - AP_Prediction_loss: 8.2339e-04 - T_Prediction_loss: 0.0083 - AP_Prediction_accuracy: 0.9996 - T_Prediction_mae: 0.0341\n",
            "Epoch 111/150\n",
            "59/59 [==============================] - 2s 32ms/step - loss: 0.0058 - AP_Prediction_loss: 3.1030e-04 - T_Prediction_loss: 0.0055 - AP_Prediction_accuracy: 1.0000 - T_Prediction_mae: 0.0262\n",
            "Epoch 112/150\n",
            "59/59 [==============================] - 2s 32ms/step - loss: 0.0041 - AP_Prediction_loss: 1.6950e-04 - T_Prediction_loss: 0.0039 - AP_Prediction_accuracy: 1.0000 - T_Prediction_mae: 0.0212\n",
            "Epoch 113/150\n",
            "59/59 [==============================] - 2s 32ms/step - loss: 0.0033 - AP_Prediction_loss: 1.2973e-04 - T_Prediction_loss: 0.0032 - AP_Prediction_accuracy: 1.0000 - T_Prediction_mae: 0.0185\n",
            "Epoch 114/150\n",
            "59/59 [==============================] - 2s 32ms/step - loss: 0.0027 - AP_Prediction_loss: 9.8265e-05 - T_Prediction_loss: 0.0026 - AP_Prediction_accuracy: 1.0000 - T_Prediction_mae: 0.0163\n",
            "Epoch 115/150\n",
            "59/59 [==============================] - 2s 32ms/step - loss: 0.0023 - AP_Prediction_loss: 8.4806e-05 - T_Prediction_loss: 0.0022 - AP_Prediction_accuracy: 1.0000 - T_Prediction_mae: 0.0146\n",
            "Epoch 116/150\n",
            "59/59 [==============================] - 2s 32ms/step - loss: 0.0021 - AP_Prediction_loss: 7.2130e-05 - T_Prediction_loss: 0.0020 - AP_Prediction_accuracy: 1.0000 - T_Prediction_mae: 0.0135\n",
            "Epoch 117/150\n",
            "59/59 [==============================] - 2s 32ms/step - loss: 0.0019 - AP_Prediction_loss: 6.2889e-05 - T_Prediction_loss: 0.0019 - AP_Prediction_accuracy: 1.0000 - T_Prediction_mae: 0.0128\n",
            "Epoch 118/150\n",
            "59/59 [==============================] - 2s 32ms/step - loss: 0.0018 - AP_Prediction_loss: 5.5635e-05 - T_Prediction_loss: 0.0017 - AP_Prediction_accuracy: 1.0000 - T_Prediction_mae: 0.0119\n",
            "Epoch 119/150\n",
            "59/59 [==============================] - 2s 32ms/step - loss: 0.0017 - AP_Prediction_loss: 4.9040e-05 - T_Prediction_loss: 0.0016 - AP_Prediction_accuracy: 1.0000 - T_Prediction_mae: 0.0112\n",
            "Epoch 120/150\n",
            "59/59 [==============================] - 2s 32ms/step - loss: 0.0016 - AP_Prediction_loss: 4.3653e-05 - T_Prediction_loss: 0.0015 - AP_Prediction_accuracy: 1.0000 - T_Prediction_mae: 0.0106\n",
            "Epoch 121/150\n",
            "59/59 [==============================] - 2s 32ms/step - loss: 0.0015 - AP_Prediction_loss: 3.9893e-05 - T_Prediction_loss: 0.0015 - AP_Prediction_accuracy: 1.0000 - T_Prediction_mae: 0.0102\n",
            "Epoch 122/150\n",
            "59/59 [==============================] - 2s 32ms/step - loss: 0.0015 - AP_Prediction_loss: 3.6769e-05 - T_Prediction_loss: 0.0014 - AP_Prediction_accuracy: 1.0000 - T_Prediction_mae: 0.0098\n",
            "Epoch 123/150\n",
            "59/59 [==============================] - 2s 32ms/step - loss: 0.0014 - AP_Prediction_loss: 3.3145e-05 - T_Prediction_loss: 0.0014 - AP_Prediction_accuracy: 1.0000 - T_Prediction_mae: 0.0095\n",
            "Epoch 124/150\n",
            "59/59 [==============================] - 2s 32ms/step - loss: 0.0014 - AP_Prediction_loss: 3.0834e-05 - T_Prediction_loss: 0.0013 - AP_Prediction_accuracy: 1.0000 - T_Prediction_mae: 0.0091\n",
            "Epoch 125/150\n",
            "59/59 [==============================] - 2s 32ms/step - loss: 0.0014 - AP_Prediction_loss: 2.8139e-05 - T_Prediction_loss: 0.0013 - AP_Prediction_accuracy: 1.0000 - T_Prediction_mae: 0.0089\n",
            "Epoch 126/150\n",
            "59/59 [==============================] - 2s 32ms/step - loss: 0.0013 - AP_Prediction_loss: 2.5962e-05 - T_Prediction_loss: 0.0013 - AP_Prediction_accuracy: 1.0000 - T_Prediction_mae: 0.0086\n",
            "Epoch 127/150\n",
            "59/59 [==============================] - 2s 32ms/step - loss: 0.0013 - AP_Prediction_loss: 2.4224e-05 - T_Prediction_loss: 0.0013 - AP_Prediction_accuracy: 1.0000 - T_Prediction_mae: 0.0082\n",
            "Epoch 128/150\n",
            "59/59 [==============================] - 2s 32ms/step - loss: 0.0013 - AP_Prediction_loss: 2.2225e-05 - T_Prediction_loss: 0.0012 - AP_Prediction_accuracy: 1.0000 - T_Prediction_mae: 0.0079\n",
            "Epoch 129/150\n",
            "59/59 [==============================] - 2s 32ms/step - loss: 0.0013 - AP_Prediction_loss: 2.0890e-05 - T_Prediction_loss: 0.0012 - AP_Prediction_accuracy: 1.0000 - T_Prediction_mae: 0.0077\n",
            "Epoch 130/150\n",
            "59/59 [==============================] - 2s 32ms/step - loss: 0.0012 - AP_Prediction_loss: 1.9464e-05 - T_Prediction_loss: 0.0012 - AP_Prediction_accuracy: 1.0000 - T_Prediction_mae: 0.0075\n",
            "Epoch 131/150\n",
            "59/59 [==============================] - 2s 32ms/step - loss: 0.0012 - AP_Prediction_loss: 1.8476e-05 - T_Prediction_loss: 0.0012 - AP_Prediction_accuracy: 1.0000 - T_Prediction_mae: 0.0073\n",
            "Epoch 132/150\n",
            "59/59 [==============================] - 2s 32ms/step - loss: 0.0012 - AP_Prediction_loss: 1.7435e-05 - T_Prediction_loss: 0.0012 - AP_Prediction_accuracy: 1.0000 - T_Prediction_mae: 0.0071\n",
            "Epoch 133/150\n",
            "59/59 [==============================] - 2s 32ms/step - loss: 0.0012 - AP_Prediction_loss: 1.6342e-05 - T_Prediction_loss: 0.0012 - AP_Prediction_accuracy: 1.0000 - T_Prediction_mae: 0.0070\n",
            "Epoch 134/150\n",
            "59/59 [==============================] - 2s 32ms/step - loss: 0.0012 - AP_Prediction_loss: 1.5379e-05 - T_Prediction_loss: 0.0012 - AP_Prediction_accuracy: 1.0000 - T_Prediction_mae: 0.0068\n",
            "Epoch 135/150\n",
            "59/59 [==============================] - 2s 32ms/step - loss: 0.0012 - AP_Prediction_loss: 1.4444e-05 - T_Prediction_loss: 0.0012 - AP_Prediction_accuracy: 1.0000 - T_Prediction_mae: 0.0066\n",
            "Epoch 136/150\n",
            "59/59 [==============================] - 2s 31ms/step - loss: 0.0012 - AP_Prediction_loss: 1.3758e-05 - T_Prediction_loss: 0.0012 - AP_Prediction_accuracy: 1.0000 - T_Prediction_mae: 0.0065\n",
            "Epoch 137/150\n",
            "59/59 [==============================] - 2s 32ms/step - loss: 0.0011 - AP_Prediction_loss: 1.2941e-05 - T_Prediction_loss: 0.0011 - AP_Prediction_accuracy: 1.0000 - T_Prediction_mae: 0.0063\n",
            "Epoch 138/150\n",
            "59/59 [==============================] - 2s 32ms/step - loss: 0.0011 - AP_Prediction_loss: 1.2282e-05 - T_Prediction_loss: 0.0011 - AP_Prediction_accuracy: 1.0000 - T_Prediction_mae: 0.0062\n",
            "Epoch 139/150\n",
            "59/59 [==============================] - 2s 32ms/step - loss: 0.0011 - AP_Prediction_loss: 1.1738e-05 - T_Prediction_loss: 0.0011 - AP_Prediction_accuracy: 1.0000 - T_Prediction_mae: 0.0061\n",
            "Epoch 140/150\n",
            "59/59 [==============================] - 2s 32ms/step - loss: 0.0011 - AP_Prediction_loss: 1.1064e-05 - T_Prediction_loss: 0.0011 - AP_Prediction_accuracy: 1.0000 - T_Prediction_mae: 0.0059\n",
            "Epoch 141/150\n",
            "59/59 [==============================] - 2s 32ms/step - loss: 0.0011 - AP_Prediction_loss: 1.0463e-05 - T_Prediction_loss: 0.0011 - AP_Prediction_accuracy: 1.0000 - T_Prediction_mae: 0.0058\n",
            "Epoch 142/150\n",
            "59/59 [==============================] - 2s 31ms/step - loss: 0.0011 - AP_Prediction_loss: 9.9114e-06 - T_Prediction_loss: 0.0011 - AP_Prediction_accuracy: 1.0000 - T_Prediction_mae: 0.0057\n",
            "Epoch 143/150\n",
            "59/59 [==============================] - 2s 31ms/step - loss: 0.0011 - AP_Prediction_loss: 9.4466e-06 - T_Prediction_loss: 0.0011 - AP_Prediction_accuracy: 1.0000 - T_Prediction_mae: 0.0056\n",
            "Epoch 144/150\n",
            "59/59 [==============================] - 2s 31ms/step - loss: 0.0011 - AP_Prediction_loss: 9.0628e-06 - T_Prediction_loss: 0.0011 - AP_Prediction_accuracy: 1.0000 - T_Prediction_mae: 0.0055\n",
            "Epoch 145/150\n",
            "59/59 [==============================] - 2s 31ms/step - loss: 0.0011 - AP_Prediction_loss: 8.7364e-06 - T_Prediction_loss: 0.0011 - AP_Prediction_accuracy: 1.0000 - T_Prediction_mae: 0.0054\n",
            "Epoch 146/150\n",
            "59/59 [==============================] - 2s 31ms/step - loss: 0.0011 - AP_Prediction_loss: 8.3803e-06 - T_Prediction_loss: 0.0011 - AP_Prediction_accuracy: 1.0000 - T_Prediction_mae: 0.0053\n",
            "Epoch 147/150\n",
            "59/59 [==============================] - 2s 31ms/step - loss: 0.0011 - AP_Prediction_loss: 7.9040e-06 - T_Prediction_loss: 0.0011 - AP_Prediction_accuracy: 1.0000 - T_Prediction_mae: 0.0052\n",
            "Epoch 148/150\n",
            "59/59 [==============================] - 2s 32ms/step - loss: 0.0011 - AP_Prediction_loss: 7.5648e-06 - T_Prediction_loss: 0.0011 - AP_Prediction_accuracy: 1.0000 - T_Prediction_mae: 0.0051\n",
            "Epoch 149/150\n",
            "59/59 [==============================] - 2s 32ms/step - loss: 0.0011 - AP_Prediction_loss: 7.2208e-06 - T_Prediction_loss: 0.0011 - AP_Prediction_accuracy: 1.0000 - T_Prediction_mae: 0.0050\n",
            "Epoch 150/150\n",
            "59/59 [==============================] - 2s 32ms/step - loss: 0.0011 - AP_Prediction_loss: 6.8888e-06 - T_Prediction_loss: 0.0011 - AP_Prediction_accuracy: 1.0000 - T_Prediction_mae: 0.0049\n"
          ]
        }
      ],
      "source": [
        "y= {\"AP_Prediction\": y_train_AP,\n",
        "    \"T_Prediction\": y_train_T }\n",
        "\n",
        "\n",
        "history = model1.fit(x_train, y=y, epochs=150, batch_size=90, verbose=1)"
      ]
    },
    {
      "cell_type": "code",
      "execution_count": null,
      "metadata": {
        "id": "_-vnDR1dTZ3G",
        "outputId": "ec8f6c01-3e8c-4ed0-dc3a-e5c88832626d"
      },
      "outputs": [
        {
          "name": "stdout",
          "output_type": "stream",
          "text": [
            "dict_keys(['loss', 'AP_Prediction_loss', 'T_Prediction_loss', 'AP_Prediction_accuracy', 'T_Prediction_mae'])\n"
          ]
        }
      ],
      "source": [
        "print(history.history.keys())\n"
      ]
    },
    {
      "cell_type": "code",
      "execution_count": null,
      "metadata": {
        "id": "X2O3aunkTZ3G",
        "outputId": "973ed5c4-3e5c-48a9-e970-3b9a3d107e16"
      },
      "outputs": [
        {
          "data": {
            "image/png": "[encoded data removed]",
            "text/plain": [
              "<Figure size 648x432 with 2 Axes>"
            ]
          },
          "metadata": {},
          "output_type": "display_data"
        }
      ],
      "source": [
        "import matplotlib.pyplot as plt\n",
        "\n",
        "# Extract accuracy and MAE values from history\n",
        "training_accuracy = history.history['AP_Prediction_accuracy']\n",
        "mae_values = history.history['T_Prediction_mae']\n",
        "\n",
        "epochs = range(1, len(training_accuracy) + 1)\n",
        "\n",
        "# Create figure and axis objects\n",
        "fig, ax1 = plt.subplots(figsize=(9, 6))\n",
        "\n",
        "# Plot accuracy on primary y-axis (left)\n",
        "ax1.plot(epochs, training_accuracy, label='Accuracy (Next BS prediction)', linewidth=3)\n",
        "ax1.set_xlabel('Epochs', fontsize = 15)\n",
        "ax1.set_ylabel('Accuracy', color='blue', fontsize = 15)\n",
        "ax1.tick_params(axis='y', labelcolor='blue')\n",
        "\n",
        "# Create a secondary y-axis (right)\n",
        "ax2 = ax1.twinx()\n",
        "ax2.plot(epochs, mae_values, 'darkorange', label='MAE (Dwell time prediction)', linewidth=3)\n",
        "ax2.set_ylabel('MAE', color='darkorange', fontsize = 15)\n",
        "ax2.tick_params(axis='y', labelcolor='darkorange')\n",
        "\n",
        "# Increase fontsize of xticks and yticks\n",
        "ax1.tick_params(axis='both', which='major', labelsize=15)\n",
        "ax2.tick_params(axis='both', which='major', labelsize=15)\n",
        "\n",
        "# Additional formatting\n",
        "#plt.title('Training Accuracy and MAE vs Epochs')\n",
        "ax1.grid(True)\n",
        "\n",
        "# Display legends\n",
        "lines1, labels1 = ax1.get_legend_handles_labels()\n",
        "lines2, labels2 = ax2.get_legend_handles_labels()\n",
        "ax1.legend(lines1 + lines2, labels1 + labels2, loc='upper right', fontsize=15, bbox_to_anchor=(0.97, 0.790))\n",
        "\n",
        "plt.show()\n"
      ]
    },
    {
      "cell_type": "code",
      "execution_count": null,
      "metadata": {
        "id": "XCd3pcczTZ3G",
        "outputId": "001f4160-eafc-454f-afcb-3061db0faa55"
      },
      "outputs": [
        {
          "name": "stdout",
          "output_type": "stream",
          "text": [
            "Model: \"model_1\"\n",
            "__________________________________________________________________________________________________\n",
            " Layer (type)                   Output Shape         Param #     Connected to                     \n",
            "==================================================================================================\n",
            " input_2 (InputLayer)           [(None, 22, 29)]     0           []                               \n",
            "                                                                                                  \n",
            " lstm_3 (LSTM)                  (None, 22, 1024)     4317184     ['input_2[0][0]']                \n",
            "                                                                                                  \n",
            " lstm_4 (LSTM)                  (None, 22, 256)      1311744     ['lstm_3[0][0]']                 \n",
            "                                                                                                  \n",
            " lstm_5 (LSTM)                  (None, 256)          525312      ['lstm_4[0][0]']                 \n",
            "                                                                                                  \n",
            " dense_2 (Dense)                (None, 128)          32896       ['lstm_5[0][0]']                 \n",
            "                                                                                                  \n",
            " dense_3 (Dense)                (None, 64)           8256        ['dense_2[0][0]']                \n",
            "                                                                                                  \n",
            " AP_Prediction (Dense)          (None, 12)           780         ['dense_3[0][0]']                \n",
            "                                                                                                  \n",
            " T_Prediction (Dense)           (None, 17)           4369        ['lstm_5[0][0]']                 \n",
            "                                                                                                  \n",
            "==================================================================================================\n",
            "Total params: 6,200,541\n",
            "Trainable params: 6,200,541\n",
            "Non-trainable params: 0\n",
            "__________________________________________________________________________________________________\n"
          ]
        }
      ],
      "source": [
        "model1.summary()"
      ]
    },
    {
      "cell_type": "code",
      "execution_count": null,
      "metadata": {
        "id": "Xyl4CtgGTZ3H",
        "outputId": "96e02891-4336-4c0f-a0e9-e163943058ee"
      },
      "outputs": [
        {
          "data": {
            "text/plain": [
              "[<matplotlib.lines.Line2D at 0x1e824e69250>]"
            ]
          },
          "execution_count": 73,
          "metadata": {},
          "output_type": "execute_result"
        },
        {
          "data": {
            "image/png": "[encoded data removed]",
            "text/plain": [
              "<Figure size 432x288 with 1 Axes>"
            ]
          },
          "metadata": {
            "needs_background": "light"
          },
          "output_type": "display_data"
        }
      ],
      "source": [
        "loss_per_epoch = model1.history.history['loss']\n",
        "plt.plot(range(len(loss_per_epoch)),loss_per_epoch)"
      ]
    },
    {
      "cell_type": "code",
      "execution_count": null,
      "metadata": {
        "id": "LhKP10NJTZ3H",
        "outputId": "b449a603-1dd4-4a54-d0f9-daa490d6e612"
      },
      "outputs": [
        {
          "name": "stdout",
          "output_type": "stream",
          "text": [
            "19/19 [==============================] - 91s 5s/step\n",
            "[array([[7.4698255e-23, 1.0000000e+00, 1.5248292e-23, ..., 2.2261630e-19,\n",
            "        1.2339628e-17, 1.5679887e-17],\n",
            "       [9.8304663e-11, 1.7747567e-12, 1.0115700e-18, ..., 6.7565782e-19,\n",
            "        1.0000000e+00, 3.5485265e-16],\n",
            "       [1.0025893e-12, 1.0000000e+00, 6.2482779e-15, ..., 2.5055484e-13,\n",
            "        1.6216656e-11, 1.2878356e-17],\n",
            "       ...,\n",
            "       [1.0000000e+00, 2.6114113e-18, 2.1103286e-18, ..., 1.1182205e-18,\n",
            "        1.0814423e-17, 4.1604976e-18],\n",
            "       [1.0000000e+00, 1.6694266e-18, 2.1182546e-20, ..., 1.4047689e-18,\n",
            "        2.8501994e-17, 7.3048856e-17],\n",
            "       [3.8720425e-16, 1.0000000e+00, 1.0838190e-21, ..., 1.2854587e-19,\n",
            "        5.7430514e-13, 4.7463728e-15]], dtype=float32), array([[1.13431015e-05, 5.19643754e-06, 1.21100984e-05, ...,\n",
            "        5.26486384e-03, 9.92117941e-01, 3.07957130e-03],\n",
            "       [9.48583818e-07, 8.61602985e-06, 1.66343784e-06, ...,\n",
            "        9.93062079e-01, 1.48254388e-03, 2.20706407e-02],\n",
            "       [4.36666654e-04, 7.61096599e-05, 8.15347419e-04, ...,\n",
            "        7.21913353e-02, 9.96529281e-01, 9.99053895e-01],\n",
            "       ...,\n",
            "       [4.49142863e-05, 3.55445227e-05, 1.31772176e-04, ...,\n",
            "        2.11701053e-03, 9.89185452e-01, 9.99074459e-01],\n",
            "       [1.85307712e-04, 1.53377288e-04, 5.68057818e-04, ...,\n",
            "        2.42947062e-04, 9.90733266e-01, 9.92270112e-01],\n",
            "       [2.87847683e-06, 3.16411115e-06, 1.11725501e-06, ...,\n",
            "        8.20524565e-06, 1.63724367e-03, 9.97614026e-01]], dtype=float32)]\n",
            "-----\n"
          ]
        }
      ],
      "source": [
        "pred = model1.predict(x_test)\n",
        "print(pred)\n",
        "print('-----')"
      ]
    },
    {
      "cell_type": "code",
      "execution_count": null,
      "metadata": {
        "id": "0TElCswXTZ3H",
        "outputId": "857fca4d-dace-417d-8907-fc655b680079"
      },
      "outputs": [
        {
          "data": {
            "text/plain": [
              "array([[7.4698255e-23, 1.0000000e+00, 1.5248292e-23, ..., 2.2261630e-19,\n",
              "        1.2339628e-17, 1.5679887e-17],\n",
              "       [9.8304663e-11, 1.7747567e-12, 1.0115700e-18, ..., 6.7565782e-19,\n",
              "        1.0000000e+00, 3.5485265e-16],\n",
              "       [1.0025893e-12, 1.0000000e+00, 6.2482779e-15, ..., 2.5055484e-13,\n",
              "        1.6216656e-11, 1.2878356e-17],\n",
              "       ...,\n",
              "       [1.0000000e+00, 2.6114113e-18, 2.1103286e-18, ..., 1.1182205e-18,\n",
              "        1.0814423e-17, 4.1604976e-18],\n",
              "       [1.0000000e+00, 1.6694266e-18, 2.1182546e-20, ..., 1.4047689e-18,\n",
              "        2.8501994e-17, 7.3048856e-17],\n",
              "       [3.8720425e-16, 1.0000000e+00, 1.0838190e-21, ..., 1.2854587e-19,\n",
              "        5.7430514e-13, 4.7463728e-15]], dtype=float32)"
            ]
          },
          "execution_count": 75,
          "metadata": {},
          "output_type": "execute_result"
        }
      ],
      "source": [
        "pred[0]"
      ]
    },
    {
      "cell_type": "code",
      "execution_count": null,
      "metadata": {
        "id": "7cvGTC7NTZ3H",
        "outputId": "399f4a85-5efc-4377-a99b-d9aade155d03"
      },
      "outputs": [
        {
          "data": {
            "text/plain": [
              "97.963466124"
            ]
          },
          "execution_count": 89,
          "metadata": {},
          "output_type": "execute_result"
        }
      ],
      "source": [
        "a = 0\n",
        "b = 0\n",
        "\n",
        "\n",
        "for i in range(len(y_test_AP)):\n",
        "\n",
        "    if np.argmax((y_test_AP[i])) == np.argmax((pred[0][i])):#  or np.argmax((y_test_AP[i])) == list(pred[0][i]).index(sorted(pred[0][i])[-2]) or np.argmax((y_test_AP[i])) == list(pred[0][i]).index(sorted(pred[0][i])[-3])::\n",
        "        a = a+1\n",
        "\n",
        "    if np.argmax((y_test_AP[i])) != np.argmax((pred[0][i])):\n",
        "        b = b+1\n",
        "\n",
        "acc= 100*(a/len(y_test_AP))\n",
        "acc"
      ]
    },
    {
      "cell_type": "code",
      "execution_count": null,
      "metadata": {
        "id": "91VPo-ROTZ3H",
        "outputId": "e55c38f9-8b73-4d55-c16e-81aa9387fcdb"
      },
      "outputs": [
        {
          "data": {
            "text/plain": [
              "99.4"
            ]
          },
          "execution_count": 90,
          "metadata": {},
          "output_type": "execute_result"
        }
      ],
      "source": [
        "a = 0\n",
        "b = 0\n",
        "\n",
        "\n",
        "for i in range(len(y_test_AP)):\n",
        "\n",
        "    if np.argmax((y_test_AP[i])) == np.argmax((pred[0][i]))  or np.argmax((y_test_AP[i])) == list(pred[0][i]).index(sorted(pred[0][i])[-2]):# or np.argmax((y_test_AP[i])) == list(pred[0][i]).index(sorted(pred[0][i])[-3])::\n",
        "        a = a+1\n",
        "\n",
        "    if np.argmax((y_test_AP[i])) != np.argmax((pred[0][i])):\n",
        "        b = b+1\n",
        "\n",
        "acc= 100*(a/len(y_test_AP))\n",
        "acc"
      ]
    },
    {
      "cell_type": "code",
      "execution_count": null,
      "metadata": {
        "id": "_scZ18gkTZ3H",
        "outputId": "9fc0e162-3f00-4ab1-a3f6-86a0ff37a4fc"
      },
      "outputs": [
        {
          "data": {
            "text/plain": [
              "100"
            ]
          },
          "execution_count": 91,
          "metadata": {},
          "output_type": "execute_result"
        }
      ],
      "source": [
        "a = 0\n",
        "b = 0\n",
        "\n",
        "\n",
        "for i in range(len(y_test_AP)):\n",
        "\n",
        "    if np.argmax((y_test_AP[i])) == np.argmax((pred[0][i]))  or np.argmax((y_test_AP[i])) == list(pred[0][i]).index(sorted(pred[0][i])[-2]) or np.argmax((y_test_AP[i])) == list(pred[0][i]).index(sorted(pred[0][i])[-3]):\n",
        "        a = a+1\n",
        "\n",
        "    if np.argmax((y_test_AP[i])) != np.argmax((pred[0][i])):\n",
        "        b = b+1\n",
        "\n",
        "acc= 100*(a/len(y_test_AP))\n",
        "acc"
      ]
    },
    {
      "cell_type": "code",
      "execution_count": null,
      "metadata": {
        "id": "6KEaX-E4TZ3H"
      },
      "outputs": [],
      "source": []
    },
    {
      "cell_type": "code",
      "execution_count": null,
      "metadata": {
        "id": "jCZ7YwIiTZ3I"
      },
      "outputs": [],
      "source": [
        "for i in range(len(pred[1])):\n",
        "    for j in range(17):\n",
        "        if pred[1][i][j] > 0.5:\n",
        "            pred [1][i][j] = 1\n",
        "        if pred[1][i][j] < 0.5:\n",
        "            pred [1][i][j] = 0"
      ]
    },
    {
      "cell_type": "code",
      "execution_count": null,
      "metadata": {
        "id": "XJ3Ag_6vTZ3I"
      },
      "outputs": [],
      "source": []
    },
    {
      "cell_type": "code",
      "execution_count": null,
      "metadata": {
        "id": "6Fr3HH1OTZ3I",
        "outputId": "add04e72-84cd-4995-fe76-25c856282e40"
      },
      "outputs": [
        {
          "data": {
            "text/plain": [
              "19.2"
            ]
          },
          "execution_count": 88,
          "metadata": {},
          "output_type": "execute_result"
        }
      ],
      "source": [
        "error = 0\n",
        "Ttime_GT = []\n",
        "Ttime_pred = []\n",
        "\n",
        "for i in range(len(y_test_T)):\n",
        "    Ttime_GT1 = 0\n",
        "    Ttime_pred1 = 0\n",
        "    pred_nn = np.flip(pred[1][i])\n",
        "    y_test_TT = np.flip(y_test_T[i])\n",
        "\n",
        "    for j in range(17):\n",
        "        Ttime_G = (y_test_TT[j])*pow(2,j) #*2 power j\n",
        "        Ttime_GT1 = Ttime_GT1 + Ttime_G\n",
        "\n",
        "        Ttime_p = pred_nn[j]*pow(2,j) #*2 power j\n",
        "        Ttime_pred1 = Ttime_pred1 + Ttime_p\n",
        "        #         print(j)\n",
        "    Ttime_GT.append(Ttime_GT1)\n",
        "    Ttime_pred.append(Ttime_pred1)\n",
        "\n",
        "#      err =y_test_T[i]-pred[1][i]\n",
        "\n",
        "#     error = error + err\n",
        "\n",
        "\n",
        "for i in range(len(Ttime_GT)):\n",
        "    err = abs(Ttime_GT[i]-Ttime_pred[i])\n",
        "    error = error +  err\n",
        "\n",
        "\n",
        "\n",
        "Avg_error = error/len(Ttime_GT)\n",
        "Avg_error"
      ]
    },
    {
      "cell_type": "code",
      "execution_count": null,
      "metadata": {
        "id": "5thEvB5oTZ3I"
      },
      "outputs": [],
      "source": [
        "from sklearn.metrics import mean_squared_error\n",
        "def RMSE(true, pred):\n",
        "    RMSE = mean_squared_error(true, pred, squared = False)\n",
        "    return RMSE"
      ]
    },
    {
      "cell_type": "code",
      "execution_count": null,
      "metadata": {
        "id": "kOEIIW8LTZ3I",
        "outputId": "4931d642-070b-4370-b21b-01320e2837fe"
      },
      "outputs": [
        {
          "data": {
            "text/plain": [
              "197.1659958685345"
            ]
          },
          "execution_count": 92,
          "metadata": {},
          "output_type": "execute_result"
        }
      ],
      "source": [
        "RMSE(Ttime_GT, Ttime_pred)"
      ]
    },
    {
      "cell_type": "code",
      "execution_count": null,
      "metadata": {
        "id": "FQeboMNzr7ZU",
        "outputId": "4c5c4b60-a4b0-4ae3-b3aa-d97b71349473"
      },
      "outputs": [
        {
          "data": {
            "text/plain": [
              "743.7135506003431"
            ]
          },
          "execution_count": 87,
          "metadata": {},
          "output_type": "execute_result"
        }
      ],
      "source": [
        "totalDwellT = 0\n",
        "\n",
        "for i in range(len(Ttime_GT)):\n",
        "    totalDwellT= Ttime_GT[i]+totalDwellT\n",
        "\n",
        "\n",
        "\n",
        "\n",
        "totalDwellT/(len(Ttime_GT))"
      ]
    },
    {
      "cell_type": "code",
      "execution_count": null,
      "metadata": {
        "id": "LJbTOQvPTZ3I"
      },
      "outputs": [],
      "source": []
    },
    {
      "cell_type": "code",
      "execution_count": null,
      "metadata": {
        "id": "D9J7VrlUTZ3I"
      },
      "outputs": [],
      "source": []
    }
  ],
  "metadata": {
    "colab": {
      "provenance": []
    },
    "kernelspec": {
      "display_name": "Python 3 (ipykernel)",
      "language": "python",
      "name": "python3"
    },
    "language_info": {
      "codemirror_mode": {
        "name": "ipython",
        "version": 3
      },
      "file_extension": ".py",
      "mimetype": "text/x-python",
      "name": "python",
      "nbconvert_exporter": "python",
      "pygments_lexer": "ipython3",
      "version": "3.9.12"
    }
  },
  "nbformat": 4,
  "nbformat_minor": 0
}